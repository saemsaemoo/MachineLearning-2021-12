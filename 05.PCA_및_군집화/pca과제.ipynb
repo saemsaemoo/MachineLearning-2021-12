{
 "cells": [
  {
   "cell_type": "markdown",
   "metadata": {},
   "source": [
    " ### Breast cancer data (feature 30개)\n",
    "- 차원 축소 (2,5,10) 정도로 비교 -> 설명력\n",
    "- PCA 전후 분류 (Logistic Regression) 비교"
   ]
  },
  {
   "cell_type": "code",
   "execution_count": 38,
   "metadata": {},
   "outputs": [],
   "source": [
    "import numpy as np\n",
    "import pandas as pd\n",
    "import seaborn as sns\n",
    "import matplotlib.pyplot as plt"
   ]
  },
  {
   "cell_type": "code",
   "execution_count": 39,
   "metadata": {},
   "outputs": [],
   "source": [
    "from sklearn.datasets import load_breast_cancer\n",
    "cancer = load_breast_cancer()"
   ]
  },
  {
   "cell_type": "code",
   "execution_count": 40,
   "metadata": {},
   "outputs": [
    {
     "data": {
      "text/html": [
       "<div>\n",
       "<style scoped>\n",
       "    .dataframe tbody tr th:only-of-type {\n",
       "        vertical-align: middle;\n",
       "    }\n",
       "\n",
       "    .dataframe tbody tr th {\n",
       "        vertical-align: top;\n",
       "    }\n",
       "\n",
       "    .dataframe thead th {\n",
       "        text-align: right;\n",
       "    }\n",
       "</style>\n",
       "<table border=\"1\" class=\"dataframe\">\n",
       "  <thead>\n",
       "    <tr style=\"text-align: right;\">\n",
       "      <th></th>\n",
       "      <th>mean radius</th>\n",
       "      <th>mean texture</th>\n",
       "      <th>mean perimeter</th>\n",
       "      <th>mean area</th>\n",
       "      <th>mean smoothness</th>\n",
       "      <th>mean compactness</th>\n",
       "      <th>mean concavity</th>\n",
       "      <th>mean concave points</th>\n",
       "      <th>mean symmetry</th>\n",
       "      <th>mean fractal dimension</th>\n",
       "      <th>...</th>\n",
       "      <th>worst texture</th>\n",
       "      <th>worst perimeter</th>\n",
       "      <th>worst area</th>\n",
       "      <th>worst smoothness</th>\n",
       "      <th>worst compactness</th>\n",
       "      <th>worst concavity</th>\n",
       "      <th>worst concave points</th>\n",
       "      <th>worst symmetry</th>\n",
       "      <th>worst fractal dimension</th>\n",
       "      <th>target</th>\n",
       "    </tr>\n",
       "  </thead>\n",
       "  <tbody>\n",
       "    <tr>\n",
       "      <th>0</th>\n",
       "      <td>17.99</td>\n",
       "      <td>10.38</td>\n",
       "      <td>122.80</td>\n",
       "      <td>1001.0</td>\n",
       "      <td>0.11840</td>\n",
       "      <td>0.27760</td>\n",
       "      <td>0.3001</td>\n",
       "      <td>0.14710</td>\n",
       "      <td>0.2419</td>\n",
       "      <td>0.07871</td>\n",
       "      <td>...</td>\n",
       "      <td>17.33</td>\n",
       "      <td>184.60</td>\n",
       "      <td>2019.0</td>\n",
       "      <td>0.1622</td>\n",
       "      <td>0.6656</td>\n",
       "      <td>0.7119</td>\n",
       "      <td>0.2654</td>\n",
       "      <td>0.4601</td>\n",
       "      <td>0.11890</td>\n",
       "      <td>0</td>\n",
       "    </tr>\n",
       "    <tr>\n",
       "      <th>1</th>\n",
       "      <td>20.57</td>\n",
       "      <td>17.77</td>\n",
       "      <td>132.90</td>\n",
       "      <td>1326.0</td>\n",
       "      <td>0.08474</td>\n",
       "      <td>0.07864</td>\n",
       "      <td>0.0869</td>\n",
       "      <td>0.07017</td>\n",
       "      <td>0.1812</td>\n",
       "      <td>0.05667</td>\n",
       "      <td>...</td>\n",
       "      <td>23.41</td>\n",
       "      <td>158.80</td>\n",
       "      <td>1956.0</td>\n",
       "      <td>0.1238</td>\n",
       "      <td>0.1866</td>\n",
       "      <td>0.2416</td>\n",
       "      <td>0.1860</td>\n",
       "      <td>0.2750</td>\n",
       "      <td>0.08902</td>\n",
       "      <td>0</td>\n",
       "    </tr>\n",
       "    <tr>\n",
       "      <th>2</th>\n",
       "      <td>19.69</td>\n",
       "      <td>21.25</td>\n",
       "      <td>130.00</td>\n",
       "      <td>1203.0</td>\n",
       "      <td>0.10960</td>\n",
       "      <td>0.15990</td>\n",
       "      <td>0.1974</td>\n",
       "      <td>0.12790</td>\n",
       "      <td>0.2069</td>\n",
       "      <td>0.05999</td>\n",
       "      <td>...</td>\n",
       "      <td>25.53</td>\n",
       "      <td>152.50</td>\n",
       "      <td>1709.0</td>\n",
       "      <td>0.1444</td>\n",
       "      <td>0.4245</td>\n",
       "      <td>0.4504</td>\n",
       "      <td>0.2430</td>\n",
       "      <td>0.3613</td>\n",
       "      <td>0.08758</td>\n",
       "      <td>0</td>\n",
       "    </tr>\n",
       "    <tr>\n",
       "      <th>3</th>\n",
       "      <td>11.42</td>\n",
       "      <td>20.38</td>\n",
       "      <td>77.58</td>\n",
       "      <td>386.1</td>\n",
       "      <td>0.14250</td>\n",
       "      <td>0.28390</td>\n",
       "      <td>0.2414</td>\n",
       "      <td>0.10520</td>\n",
       "      <td>0.2597</td>\n",
       "      <td>0.09744</td>\n",
       "      <td>...</td>\n",
       "      <td>26.50</td>\n",
       "      <td>98.87</td>\n",
       "      <td>567.7</td>\n",
       "      <td>0.2098</td>\n",
       "      <td>0.8663</td>\n",
       "      <td>0.6869</td>\n",
       "      <td>0.2575</td>\n",
       "      <td>0.6638</td>\n",
       "      <td>0.17300</td>\n",
       "      <td>0</td>\n",
       "    </tr>\n",
       "  </tbody>\n",
       "</table>\n",
       "<p>4 rows × 31 columns</p>\n",
       "</div>"
      ],
      "text/plain": [
       "   mean radius  mean texture  mean perimeter  mean area  mean smoothness  \\\n",
       "0        17.99         10.38          122.80     1001.0          0.11840   \n",
       "1        20.57         17.77          132.90     1326.0          0.08474   \n",
       "2        19.69         21.25          130.00     1203.0          0.10960   \n",
       "3        11.42         20.38           77.58      386.1          0.14250   \n",
       "\n",
       "   mean compactness  mean concavity  mean concave points  mean symmetry  \\\n",
       "0           0.27760          0.3001              0.14710         0.2419   \n",
       "1           0.07864          0.0869              0.07017         0.1812   \n",
       "2           0.15990          0.1974              0.12790         0.2069   \n",
       "3           0.28390          0.2414              0.10520         0.2597   \n",
       "\n",
       "   mean fractal dimension  ...  worst texture  worst perimeter  worst area  \\\n",
       "0                 0.07871  ...          17.33           184.60      2019.0   \n",
       "1                 0.05667  ...          23.41           158.80      1956.0   \n",
       "2                 0.05999  ...          25.53           152.50      1709.0   \n",
       "3                 0.09744  ...          26.50            98.87       567.7   \n",
       "\n",
       "   worst smoothness  worst compactness  worst concavity  worst concave points  \\\n",
       "0            0.1622             0.6656           0.7119                0.2654   \n",
       "1            0.1238             0.1866           0.2416                0.1860   \n",
       "2            0.1444             0.4245           0.4504                0.2430   \n",
       "3            0.2098             0.8663           0.6869                0.2575   \n",
       "\n",
       "   worst symmetry  worst fractal dimension  target  \n",
       "0          0.4601                  0.11890       0  \n",
       "1          0.2750                  0.08902       0  \n",
       "2          0.3613                  0.08758       0  \n",
       "3          0.6638                  0.17300       0  \n",
       "\n",
       "[4 rows x 31 columns]"
      ]
     },
     "execution_count": 40,
     "metadata": {},
     "output_type": "execute_result"
    }
   ],
   "source": [
    "df = pd.DataFrame(cancer.data, columns=cancer.feature_names)\n",
    "df['target']= cancer.target\n",
    "df.head(4)"
   ]
  },
  {
   "cell_type": "markdown",
   "metadata": {},
   "source": [
    "- cancer 데이터 정규화\n",
    "- 정규화의 목표: 데이터의 중복을 막아서 무결성 유지 및 DB 저장 용량 줄이기"
   ]
  },
  {
   "cell_type": "code",
   "execution_count": 41,
   "metadata": {},
   "outputs": [
    {
     "data": {
      "text/plain": [
       "array([[ 1.09706398, -2.07333501,  1.26993369,  0.9843749 ,  1.56846633,\n",
       "         3.28351467,  2.65287398,  2.53247522,  2.21751501,  2.25574689,\n",
       "         2.48973393, -0.56526506,  2.83303087,  2.48757756, -0.21400165,\n",
       "         1.31686157,  0.72402616,  0.66081994,  1.14875667,  0.90708308,\n",
       "         1.88668963, -1.35929347,  2.30360062,  2.00123749,  1.30768627,\n",
       "         2.61666502,  2.10952635,  2.29607613,  2.75062224,  1.93701461]])"
      ]
     },
     "execution_count": 41,
     "metadata": {},
     "output_type": "execute_result"
    }
   ],
   "source": [
    "from sklearn.preprocessing import StandardScaler\n",
    "cancer_std = StandardScaler().fit_transform(cancer.data)\n",
    "cancer_std[:1]"
   ]
  },
  {
   "cell_type": "markdown",
   "metadata": {},
   "source": [
    "- PCA로 차원 축소"
   ]
  },
  {
   "cell_type": "code",
   "execution_count": 42,
   "metadata": {},
   "outputs": [
    {
     "data": {
      "text/plain": [
       "(array([4.42720256e-01, 1.89711820e-01, 9.39316326e-02, 6.60213492e-02,\n",
       "        5.49576849e-02, 4.02452204e-02, 2.25073371e-02, 1.58872380e-02,\n",
       "        1.38964937e-02, 1.16897819e-02, 9.79718988e-03, 8.70537901e-03,\n",
       "        8.04524987e-03, 5.23365745e-03, 3.13783217e-03, 2.66209337e-03,\n",
       "        1.97996793e-03, 1.75395945e-03, 1.64925306e-03, 1.03864675e-03,\n",
       "        9.99096464e-04, 9.14646751e-04, 8.11361259e-04, 6.01833567e-04,\n",
       "        5.16042379e-04, 2.72587995e-04, 2.30015463e-04, 5.29779290e-05,\n",
       "        2.49601032e-05, 4.43482743e-06]),\n",
       " 1.0)"
      ]
     },
     "execution_count": 42,
     "metadata": {},
     "output_type": "execute_result"
    }
   ],
   "source": [
    "# 원본 (30차원 .. feature 30개니까)\n",
    "from sklearn.decomposition import PCA\n",
    "pca30 = PCA(n_components=30)\n",
    "cancer_pca30 = pca30.fit_transform(cancer_std)\n",
    "pca30.explained_variance_ratio_, sum(pca30.explained_variance_ratio_)"
   ]
  },
  {
   "cell_type": "code",
   "execution_count": 43,
   "metadata": {},
   "outputs": [
    {
     "data": {
      "text/plain": [
       "(array([0.44272026, 0.18971182]), 0.6324320765155951)"
      ]
     },
     "execution_count": 43,
     "metadata": {},
     "output_type": "execute_result"
    }
   ],
   "source": [
    "# 2차원 / 설명력\n",
    "pca2 = PCA(n_components=2)\n",
    "cancer_pca2 = pca2.fit_transform(cancer_std)\n",
    "pca2.explained_variance_ratio_, sum(pca2.explained_variance_ratio_)"
   ]
  },
  {
   "cell_type": "code",
   "execution_count": 44,
   "metadata": {},
   "outputs": [
    {
     "data": {
      "text/plain": [
       "(array([0.44272026, 0.18971182, 0.09393163, 0.06602135, 0.05495768]),\n",
       " 0.847342743167966)"
      ]
     },
     "execution_count": 44,
     "metadata": {},
     "output_type": "execute_result"
    }
   ],
   "source": [
    "# 5차원 / 설명력\n",
    "pca5 = PCA(n_components=5)\n",
    "cancer_pca5 = pca5.fit_transform(cancer_std)\n",
    "pca5.explained_variance_ratio_, sum(pca5.explained_variance_ratio_)"
   ]
  },
  {
   "cell_type": "code",
   "execution_count": 45,
   "metadata": {},
   "outputs": [
    {
     "data": {
      "text/plain": [
       "(array([0.44272026, 0.18971182, 0.09393163, 0.06602135, 0.05495768,\n",
       "        0.04024522, 0.02250734, 0.01588724, 0.01389649, 0.01168978]),\n",
       " 0.951568814330965)"
      ]
     },
     "execution_count": 45,
     "metadata": {},
     "output_type": "execute_result"
    }
   ],
   "source": [
    "# 10차원 / 설명력\n",
    "pca10 = PCA(n_components=10)\n",
    "cancer_pca10 = pca10.fit_transform(cancer_std)\n",
    "pca10.explained_variance_ratio_, sum(pca10.explained_variance_ratio_)"
   ]
  },
  {
   "cell_type": "code",
   "execution_count": 46,
   "metadata": {},
   "outputs": [
    {
     "data": {
      "text/plain": [
       "(array([0.44272026, 0.18971182, 0.09393163, 0.06602135, 0.05495768,\n",
       "        0.04024522, 0.02250734, 0.01588724, 0.01389649, 0.01168978,\n",
       "        0.00979719, 0.00870538, 0.00804525, 0.00523366, 0.00313783,\n",
       "        0.00266209, 0.00197997, 0.00175396, 0.00164925, 0.00103865]),\n",
       " 0.9955720432628138)"
      ]
     },
     "execution_count": 46,
     "metadata": {},
     "output_type": "execute_result"
    }
   ],
   "source": [
    "# 20차원 / 설명력\n",
    "pca20 = PCA(n_components=20)\n",
    "cancer_pca20 = pca20.fit_transform(cancer_std)\n",
    "pca20.explained_variance_ratio_, sum(pca20.explained_variance_ratio_)"
   ]
  },
  {
   "cell_type": "markdown",
   "metadata": {},
   "source": [
    "### PCA (차원 축소) 전후 비교"
   ]
  },
  {
   "cell_type": "code",
   "execution_count": 47,
   "metadata": {},
   "outputs": [],
   "source": [
    "from sklearn.model_selection import train_test_split\n",
    "from sklearn.linear_model import LogisticRegression"
   ]
  },
  {
   "cell_type": "code",
   "execution_count": 57,
   "metadata": {},
   "outputs": [
    {
     "data": {
      "text/plain": [
       "0.993006993006993"
      ]
     },
     "execution_count": 57,
     "metadata": {},
     "output_type": "execute_result"
    }
   ],
   "source": [
    "# 원본 :: 정규화된 애로 해야 됨 (cancer_std)... 정규화 안하면 max iter?로 키워줘야 함.\n",
    "X_train, X_test, y_train, y_test = train_test_split(\n",
    "    cancer_std, cancer.target, stratify=cancer.target, random_state=2021\n",
    ")\n",
    "lr = LogisticRegression(random_state=2021)\n",
    "lr.fit(X_train, y_train)\n",
    "lr.score(X_test, y_test)"
   ]
  },
  {
   "cell_type": "code",
   "execution_count": 49,
   "metadata": {},
   "outputs": [
    {
     "data": {
      "text/plain": [
       "0.9440559440559441"
      ]
     },
     "execution_count": 49,
     "metadata": {},
     "output_type": "execute_result"
    }
   ],
   "source": [
    "# 2차원 정확도\n",
    "X_train, X_test, y_train, y_test = train_test_split(\n",
    "    cancer_pca2, cancer.target, stratify=cancer.target, random_state=2021\n",
    ")\n",
    "lr2 = LogisticRegression(random_state=2021)\n",
    "lr2.fit(X_train, y_train)\n",
    "lr2.score(X_test, y_test)"
   ]
  },
  {
   "cell_type": "code",
   "execution_count": 50,
   "metadata": {},
   "outputs": [
    {
     "data": {
      "text/plain": [
       "0.993006993006993"
      ]
     },
     "execution_count": 50,
     "metadata": {},
     "output_type": "execute_result"
    }
   ],
   "source": [
    "# 5차원 정확도\n",
    "X_train, X_test, y_train, y_test = train_test_split(\n",
    "    cancer_pca5, cancer.target, stratify=cancer.target, random_state=2021\n",
    ")\n",
    "lr5 = LogisticRegression(random_state=2021)\n",
    "lr5.fit(X_train, y_train)\n",
    "lr5.score(X_test, y_test)"
   ]
  },
  {
   "cell_type": "code",
   "execution_count": 51,
   "metadata": {},
   "outputs": [
    {
     "data": {
      "text/plain": [
       "0.986013986013986"
      ]
     },
     "execution_count": 51,
     "metadata": {},
     "output_type": "execute_result"
    }
   ],
   "source": [
    "# 10차원 정확도\n",
    "X_train, X_test, y_train, y_test = train_test_split(\n",
    "    cancer_pca10, cancer.target, stratify=cancer.target, random_state=2021\n",
    ")\n",
    "lr = LogisticRegression(random_state=2021)\n",
    "lr.fit(X_train, y_train)\n",
    "lr.score(X_test, y_test)"
   ]
  },
  {
   "cell_type": "code",
   "execution_count": 52,
   "metadata": {},
   "outputs": [
    {
     "data": {
      "text/plain": [
       "0.993006993006993"
      ]
     },
     "execution_count": 52,
     "metadata": {},
     "output_type": "execute_result"
    }
   ],
   "source": [
    "# 20차원 정확도\n",
    "X_train, X_test, y_train, y_test = train_test_split(\n",
    "    cancer_pca20, cancer.target, stratify=cancer.target, random_state=2021\n",
    ")\n",
    "lr = LogisticRegression(random_state=2021)\n",
    "lr.fit(X_train, y_train)\n",
    "lr.score(X_test, y_test)"
   ]
  },
  {
   "cell_type": "code",
   "execution_count": 53,
   "metadata": {},
   "outputs": [],
   "source": [
    "def pca_accuracy(X, y):\n",
    "    X_train, X_test, y_train, y_test = train_test_split(\n",
    "        X, y, stratify = y, random_state=2021\n",
    "    )\n",
    "    lr = LogisticRegression(random_state=2021)\n",
    "    lr.fit(X_train, y_train)\n",
    "    score = lr.score(X_test, y_test)\n",
    "    return score"
   ]
  },
  {
   "cell_type": "code",
   "execution_count": 60,
   "metadata": {},
   "outputs": [
    {
     "name": "stdout",
     "output_type": "stream",
     "text": [
      "PCA 2차원 - 정확도 : 0.944056 /  설명력 :0.632432\n",
      "PCA 5차원 - 정확도 : 0.993007 /  설명력 :0.847343\n",
      "PCA 10차원 - 정확도 : 0.986014 /  설명력 :0.951569\n",
      "PCA 20차원 - 정확도 : 0.993007 /  설명력 :0.995572\n",
      "원 데이터 - 정확도: 0.9930\n"
     ]
    }
   ],
   "source": [
    "for n in [2,5,10,20,0]:\n",
    "    if n == 0:\n",
    "        acc = pca_accuracy(cancer_std, cancer.target)\n",
    "        print(f'원 데이터 - 정확도: {acc:.4f}')\n",
    "    else:\n",
    "          pca = PCA(n_components=n)\n",
    "          cancer_pca = pca.fit_transform(cancer_std)\n",
    "          acc = pca_accuracy(cancer_pca, cancer.target)\n",
    "          explained = sum(pca.explained_variance_ratio_)\n",
    "          print(f'PCA {n}차원 - 정확도 : {acc:4f} /  설명력 :{explained:4f}')"
   ]
  },
  {
   "cell_type": "code",
   "execution_count": 59,
   "metadata": {},
   "outputs": [
    {
     "name": "stdout",
     "output_type": "stream",
     "text": [
      "PCA 2 - 정확도 0.9441, 설명력: 0.6324\n",
      "PCA 5 - 정확도 0.9930, 설명력: 0.8473\n",
      "PCA 10 - 정확도 0.9860, 설명력: 0.9516\n",
      "원 데이터 - 정확도: 0.9930\n"
     ]
    }
   ],
   "source": [
    "for n in [2,5,10,0]:\n",
    "    if n == 0:\n",
    "        acc = pca_accuracy(cancer_std, cancer.target)\n",
    "        print(f'원 데이터 - 정확도: {acc:.4f}')\n",
    "    else:\n",
    "        pca = PCA(n_components=n)\n",
    "        cancer_pca = pca.fit_transform(cancer_std)\n",
    "        explained = sum(pca.explained_variance_ratio_)\n",
    "        acc = pca_accuracy(cancer_pca, cancer.target)\n",
    "        print(f'PCA {n} - 정확도 {acc:.4f}, 설명력: {explained:.4f}')"
   ]
  },
  {
   "cell_type": "code",
   "execution_count": null,
   "metadata": {},
   "outputs": [],
   "source": [
    "pca = PCA(n_components=2)\n",
    "cancer.pca = pca.fit_transform(cancer_std)\n",
    "df['PC1'] = cancer_pca[:,0]\n",
    "df['PC2'] = cancer_pca[:,1]"
   ]
  },
  {
   "cell_type": "code",
   "execution_count": null,
   "metadata": {},
   "outputs": [
    {
     "data": {
      "image/png": "[encoded data removed]",
      "text/plain": [
       "<Figure size 432x288 with 1 Axes>"
      ]
     },
     "metadata": {
      "needs_background": "light"
     },
     "output_type": "display_data"
    }
   ],
   "source": [
    "markers = ['s','o']\n",
    "for i in range(2):\n",
    "    x_data = df[df.target == i]['PC1']\n",
    "    y_data = df[df.target == i]['PC2']\n",
    "    plt.scatter(x_data, y_data, label =cancer.target_names[i])\n",
    "\n",
    "\n",
    "plt.legend()\n",
    "plt.xlabel('PCA component 1')\n",
    "plt.ylabel('PCA component 2')\n",
    "plt.show()"
   ]
  }
 ],
 "metadata": {
  "interpreter": {
   "hash": "04e5506d0a4e9b5ba2132a3aa07250344199659efb36c7056053abdf16c05720"
  },
  "kernelspec": {
   "display_name": "Python 3.8.11 64-bit ('base': conda)",
   "language": "python",
   "name": "python3"
  },
  "language_info": {
   "codemirror_mode": {
    "name": "ipython",
    "version": 3
   },
   "file_extension": ".py",
   "mimetype": "text/x-python",
   "name": "python",
   "nbconvert_exporter": "python",
   "pygments_lexer": "ipython3",
   "version": "3.8.11"
  },
  "orig_nbformat": 4
 },
 "nbformat": 4,
 "nbformat_minor": 2
}
