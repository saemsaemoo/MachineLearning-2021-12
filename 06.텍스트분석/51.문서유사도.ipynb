{
 "cells": [
  {
<<<<<<< HEAD
   "cell_type": "markdown",
   "metadata": {},
   "source": [
    "## 문서 유사도 - 코사인 유사도"
   ]
  },
  {
=======
>>>>>>> 40c013039449d0418c838d7c23a6e3e686af0ac1
   "cell_type": "code",
   "execution_count": 1,
   "metadata": {},
   "outputs": [],
   "source": [
    "import numpy as np\n",
    "import matplotlib.pyplot as plt"
   ]
  },
  {
   "cell_type": "code",
<<<<<<< HEAD
   "execution_count": 2,
=======
   "execution_count": 3,
>>>>>>> 40c013039449d0418c838d7c23a6e3e686af0ac1
   "metadata": {},
   "outputs": [
    {
     "data": {
      "image/png": "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",
      "text/plain": [
       "<Figure size 432x288 with 1 Axes>"
      ]
     },
     "metadata": {
      "needs_background": "light"
     },
     "output_type": "display_data"
    }
   ],
   "source": [
    "xs= np.linspace(0, 2*np.pi, 500)\n",
    "cosx = np.cos(xs)\n",
    "sinx = np.sin(xs)\n",
    "\n",
    "plt.plot(xs, cosx, label='cosine')\n",
    "plt.plot(xs, sinx, label='sine')\n",
    "plt.yticks([-1,0,1])\n",
    "plt.xticks([0, np.pi/2, 1.5*np.pi, 2*np.pi])\n",
    "plt.grid()\n",
    "plt.title('Sine and Cosine gragh')\n",
    "plt.legend()\n",
    "plt.show()\n"
   ]
  },
  {
   "cell_type": "code",
<<<<<<< HEAD
   "execution_count": 3,
=======
   "execution_count": 4,
>>>>>>> 40c013039449d0418c838d7c23a6e3e686af0ac1
   "metadata": {},
   "outputs": [],
   "source": [
    "v1, v2, v3 = np.array([0,1]), np.array([1,0]), np.array([-1,0])\n",
    "v1_norm = sum(np.square(v1))\n",
    "v2_norm = sum(np.square(v2))\n",
    "v3_norm = sum(np.square(v3))"
   ]
  },
  {
   "cell_type": "code",
<<<<<<< HEAD
   "execution_count": 4,
   "metadata": {},
   "outputs": [
    {
     "data": {
      "text/plain": [
       "(0.0, 0.0)"
      ]
     },
     "execution_count": 4,
     "metadata": {},
     "output_type": "execute_result"
    }
   ],
   "source": [
    "np.dot(v1, v2) / (v1_norm * v2_norm), np.dot(v1, v3) / (v1_norm * v3_norm)"
   ]
  },
  {
   "cell_type": "code",
=======
>>>>>>> 40c013039449d0418c838d7c23a6e3e686af0ac1
   "execution_count": 5,
   "metadata": {},
   "outputs": [
    {
     "data": {
      "text/plain": [
       "0.0"
      ]
     },
     "execution_count": 5,
     "metadata": {},
     "output_type": "execute_result"
    }
   ],
   "source": [
    "np.dot(v1, v2) / (v1_norm * v2_norm)"
   ]
  },
  {
   "cell_type": "code",
<<<<<<< HEAD
   "execution_count": 6,
=======
   "execution_count": 8,
>>>>>>> 40c013039449d0418c838d7c23a6e3e686af0ac1
   "metadata": {},
   "outputs": [],
   "source": [
    "def cos_similarity(v1,v2):\n",
    "    v1_norm = np.sqrt(sum(np.square(v1)))\n",
    "    v2_norm = np.sqrt(sum(np.square(v2)))\n",
    "    return np.dot(v1,v2) / (v1_norm * v2_norm)"
   ]
  },
  {
   "cell_type": "code",
<<<<<<< HEAD
   "execution_count": 7,
=======
   "execution_count": 9,
>>>>>>> 40c013039449d0418c838d7c23a6e3e686af0ac1
   "metadata": {},
   "outputs": [
    {
     "data": {
      "text/plain": [
       "0.7071067811865475"
      ]
     },
<<<<<<< HEAD
     "execution_count": 7,
=======
     "execution_count": 9,
>>>>>>> 40c013039449d0418c838d7c23a6e3e686af0ac1
     "metadata": {},
     "output_type": "execute_result"
    }
   ],
   "source": [
<<<<<<< HEAD
    "cos_similarity(np.array([1,0]), np.array([2,2]))"
=======
    "cos_similarity(np.array([1,0]), np.array([1,1]))"
>>>>>>> 40c013039449d0418c838d7c23a6e3e686af0ac1
   ]
  },
  {
   "cell_type": "markdown",
   "metadata": {},
   "source": [
    "- 문장의 코사인 유사도"
   ]
  },
  {
   "cell_type": "code",
<<<<<<< HEAD
   "execution_count": 8,
=======
   "execution_count": 10,
>>>>>>> 40c013039449d0418c838d7c23a6e3e686af0ac1
   "metadata": {},
   "outputs": [],
   "source": [
    "doc_list = ['if you take the blue pill, the story ends' ,\n",
    "            'if you take the red pill, you stay in Wonderland',\n",
    "            'if you take the red pill, I show you how deep the rabbit hole goes']"
   ]
  },
  {
   "cell_type": "code",
<<<<<<< HEAD
   "execution_count": 9,
=======
   "execution_count": 11,
>>>>>>> 40c013039449d0418c838d7c23a6e3e686af0ac1
   "metadata": {},
   "outputs": [
    {
     "data": {
      "text/plain": [
       "array([[1, 0, 1, 0, 0, 0, 1, 0, 1, 0, 0, 0, 0, 1, 1, 2, 0, 1],\n",
       "       [0, 0, 0, 0, 0, 0, 1, 1, 1, 0, 1, 0, 1, 0, 1, 1, 1, 2],\n",
       "       [0, 1, 0, 1, 1, 1, 1, 0, 1, 1, 1, 1, 0, 0, 1, 2, 0, 2]])"
      ]
     },
<<<<<<< HEAD
     "execution_count": 9,
=======
     "execution_count": 11,
>>>>>>> 40c013039449d0418c838d7c23a6e3e686af0ac1
     "metadata": {},
     "output_type": "execute_result"
    }
   ],
   "source": [
    "from sklearn.feature_extraction.text import CountVectorizer\n",
    "cvect = CountVectorizer()\n",
    "feature_cv = cvect.fit_transform(doc_list)\n",
    "feature_cv.toarray()"
   ]
  },
  {
   "cell_type": "code",
<<<<<<< HEAD
   "execution_count": 10,
=======
   "execution_count": 15,
>>>>>>> 40c013039449d0418c838d7c23a6e3e686af0ac1
   "metadata": {},
   "outputs": [],
   "source": [
    "f1 = feature_cv.toarray()[0]\n",
    "f2 = feature_cv.toarray()[1]\n",
    "f3 = feature_cv.toarray()[2]"
   ]
  },
  {
   "cell_type": "code",
<<<<<<< HEAD
   "execution_count": 11,
=======
   "execution_count": 16,
>>>>>>> 40c013039449d0418c838d7c23a6e3e686af0ac1
   "metadata": {},
   "outputs": [
    {
     "name": "stdout",
     "output_type": "stream",
     "text": [
      "문장1 vs 문장2: 0.6093\n",
      "문장1 vs 문장3: 0.6396\n",
      "문장2 vs 문장3: 0.6804\n"
     ]
    }
   ],
   "source": [
    "print(f'문장1 vs 문장2: {cos_similarity(f1,f2):.4f}')\n",
    "print(f'문장1 vs 문장3: {cos_similarity(f1,f3):.4f}')\n",
    "print(f'문장2 vs 문장3: {cos_similarity(f2,f3):.4f}')"
   ]
  },
  {
   "cell_type": "code",
<<<<<<< HEAD
   "execution_count": 12,
=======
   "execution_count": 18,
>>>>>>> 40c013039449d0418c838d7c23a6e3e686af0ac1
   "metadata": {},
   "outputs": [
    {
     "data": {
      "text/plain": [
       "array([[0.4155636 , 0.        , 0.4155636 , 0.        , 0.        ,\n",
       "        0.        , 0.24543856, 0.        , 0.24543856, 0.        ,\n",
       "        0.        , 0.        , 0.        , 0.4155636 , 0.24543856,\n",
       "        0.49087711, 0.        , 0.24543856],\n",
       "       [0.        , 0.        , 0.        , 0.        , 0.        ,\n",
       "        0.        , 0.23402865, 0.39624495, 0.23402865, 0.        ,\n",
       "        0.3013545 , 0.        , 0.39624495, 0.        , 0.23402865,\n",
       "        0.23402865, 0.39624495, 0.4680573 ],\n",
       "       [0.        , 0.30985601, 0.        , 0.30985601, 0.30985601,\n",
       "        0.30985601, 0.18300595, 0.        , 0.18300595, 0.30985601,\n",
       "        0.23565348, 0.30985601, 0.        , 0.        , 0.18300595,\n",
       "        0.3660119 , 0.        , 0.3660119 ]])"
      ]
     },
<<<<<<< HEAD
     "execution_count": 12,
=======
     "execution_count": 18,
>>>>>>> 40c013039449d0418c838d7c23a6e3e686af0ac1
     "metadata": {},
     "output_type": "execute_result"
    }
   ],
   "source": [
    "from sklearn.feature_extraction.text import TfidfVectorizer\n",
    "tvect = TfidfVectorizer()\n",
    "feature_tv = tvect.fit_transform(doc_list)\n",
    "feature_tv.toarray()"
   ]
  },
  {
   "cell_type": "code",
<<<<<<< HEAD
   "execution_count": 13,
=======
   "execution_count": 19,
>>>>>>> 40c013039449d0418c838d7c23a6e3e686af0ac1
   "metadata": {},
   "outputs": [
    {
     "name": "stdout",
     "output_type": "stream",
     "text": [
      "문장1 vs 문장2: 0.4021\n",
      "문장1 vs 문장3: 0.4043\n",
      "문장2 vs 문장3: 0.4565\n"
     ]
    }
   ],
   "source": [
    "f1 = feature_tv.toarray()[0]\n",
    "f2 = feature_tv.toarray()[1]\n",
    "f3 = feature_tv.toarray()[2]\n",
    "print(f'문장1 vs 문장2: {cos_similarity(f1,f2):.4f}')\n",
    "print(f'문장1 vs 문장3: {cos_similarity(f1,f3):.4f}')\n",
    "print(f'문장2 vs 문장3: {cos_similarity(f2,f3):.4f}')"
   ]
  },
  {
   "cell_type": "markdown",
   "metadata": {},
   "source": [
    "- Scikit-Learn 코사인 유사도"
   ]
  },
  {
   "cell_type": "code",
<<<<<<< HEAD
   "execution_count": 14,
=======
   "execution_count": 20,
>>>>>>> 40c013039449d0418c838d7c23a6e3e686af0ac1
   "metadata": {},
   "outputs": [
    {
     "data": {
      "text/plain": [
       "array([[1.        , 0.40207758, 0.40425045],\n",
       "       [0.40207758, 1.        , 0.45647296],\n",
       "       [0.40425045, 0.45647296, 1.        ]])"
      ]
     },
<<<<<<< HEAD
     "execution_count": 14,
=======
     "execution_count": 20,
>>>>>>> 40c013039449d0418c838d7c23a6e3e686af0ac1
     "metadata": {},
     "output_type": "execute_result"
    }
   ],
   "source": [
    "from sklearn.metrics.pairwise import cosine_similarity\n",
    "\n",
    "cosine_similarity(feature_tv, feature_tv)"
   ]
  },
  {
   "cell_type": "code",
<<<<<<< HEAD
   "execution_count": 15,
=======
   "execution_count": null,
>>>>>>> 40c013039449d0418c838d7c23a6e3e686af0ac1
   "metadata": {},
   "outputs": [],
   "source": [
    "import pandas as pd\n",
<<<<<<< HEAD
    "import os, glob"
   ]
  },
  {
   "cell_type": "code",
   "execution_count": 16,
   "metadata": {},
   "outputs": [
    {
     "data": {
      "text/html": [
       "<div>\n",
       "<style scoped>\n",
       "    .dataframe tbody tr th:only-of-type {\n",
       "        vertical-align: middle;\n",
       "    }\n",
       "\n",
       "    .dataframe tbody tr th {\n",
       "        vertical-align: top;\n",
       "    }\n",
       "\n",
       "    .dataframe thead th {\n",
       "        text-align: right;\n",
       "    }\n",
       "</style>\n",
       "<table border=\"1\" class=\"dataframe\">\n",
       "  <thead>\n",
       "    <tr style=\"text-align: right;\">\n",
       "      <th></th>\n",
       "      <th>filename</th>\n",
       "      <th>opinion</th>\n",
       "    </tr>\n",
       "  </thead>\n",
       "  <tbody>\n",
       "    <tr>\n",
       "      <th>0</th>\n",
       "      <td>accuracy_garmin_nuvi_255W_gps</td>\n",
       "      <td>, and is very, very accurate .\\n but for the m...</td>\n",
       "    </tr>\n",
       "    <tr>\n",
       "      <th>1</th>\n",
       "      <td>bathroom_bestwestern_hotel_sfo</td>\n",
       "      <td>The room was not overly big, but clean and ve...</td>\n",
       "    </tr>\n",
       "    <tr>\n",
       "      <th>2</th>\n",
       "      <td>battery-life_amazon_kindle</td>\n",
       "      <td>After I plugged it in to my USB hub on my com...</td>\n",
       "    </tr>\n",
       "  </tbody>\n",
       "</table>\n",
       "</div>"
      ],
      "text/plain": [
       "                         filename  \\\n",
       "0   accuracy_garmin_nuvi_255W_gps   \n",
       "1  bathroom_bestwestern_hotel_sfo   \n",
       "2      battery-life_amazon_kindle   \n",
       "\n",
       "                                             opinion  \n",
       "0  , and is very, very accurate .\\n but for the m...  \n",
       "1   The room was not overly big, but clean and ve...  \n",
       "2   After I plugged it in to my USB hub on my com...  "
      ]
     },
     "execution_count": 16,
     "metadata": {},
     "output_type": "execute_result"
    }
   ],
   "source": [
    "filename_list = []\n",
    "opinion_text = [] \n",
    "all_files = glob.glob(os.path.join('OpinosisDataset1.0/topics', '*.data'))\n",
    "for file in sorted(all_files):\n",
    "    with open(file, encoding='latin1') as f:\n",
    "        text = f.read()\n",
    "    opinion_text.append(text)\n",
    "    filename = file.split('/')[-1].split('.')[0]\n",
    "    filename_list.append(filename)\n",
    "\n",
    "df = pd.DataFrame({'filename':filename_list, 'opinion':opinion_text})\n",
    "df.head(3)"
=======
    "import glob, os\n",
    "\n",
    "path = 'OpinosisDataset1.0/topics'\n",
    "os.path.join(path, '*.data')"
>>>>>>> 40c013039449d0418c838d7c23a6e3e686af0ac1
   ]
  },
  {
   "cell_type": "code",
<<<<<<< HEAD
   "execution_count": 17,
=======
   "execution_count": null,
>>>>>>> 40c013039449d0418c838d7c23a6e3e686af0ac1
   "metadata": {},
   "outputs": [],
   "source": [
    "from nltk import word_tokenize\n",
    "\n",
<<<<<<< HEAD
    "def simple_tokenizer(text):             # 글자수가 2개 이하인 토큰은 제거\n",
    "    return [word for word in word_tokenize(text) if len(word) > 2]"
=======
    "def simple_tokenizer(text):         # 글자수가 2개 이하인 토큰은 제거\n",
    "    return [word for word in word_list if len(word) > 2]"
>>>>>>> 40c013039449d0418c838d7c23a6e3e686af0ac1
   ]
  },
  {
   "cell_type": "code",
<<<<<<< HEAD
   "execution_count": 18,
   "metadata": {},
   "outputs": [],
   "source": [
    "tvect = TfidfVectorizer(tokenizer=simple_tokenizer, stop_words='english',\n",
    "                        ngram_range=(1,2), min_df=0.05, max_df=0.85)\n",
    "feature = tvect.fit_transform(df.opinion)"
   ]
  },
  {
   "cell_type": "code",
   "execution_count": 19,
   "metadata": {},
   "outputs": [
    {
     "data": {
      "text/plain": [
       "0    25\n",
       "1    16\n",
       "2    10\n",
       "Name: cluster_label, dtype: int64"
      ]
     },
     "execution_count": 19,
     "metadata": {},
     "output_type": "execute_result"
    }
   ],
   "source": [
    "from sklearn.cluster import KMeans\n",
    "\n",
    "kmeans = KMeans(n_clusters=3, max_iter=10000, random_state=2022)\n",
    "kmeans.fit(feature)\n",
    "df['cluster_label'] = kmeans.labels_\n",
    "df.cluster_label.value_counts()"
   ]
  },
  {
   "cell_type": "code",
   "execution_count": 20,
   "metadata": {},
   "outputs": [
    {
     "data": {
      "text/plain": [
       "Int64Index([1, 13, 14, 15, 20, 21, 24, 28, 30, 31, 32, 38, 39, 40, 45, 46], dtype='int64')"
      ]
     },
     "execution_count": 20,
     "metadata": {},
     "output_type": "execute_result"
    }
   ],
   "source": [
=======
   "execution_count": null,
   "metadata": {},
   "outputs": [],
   "source": [
>>>>>>> 40c013039449d0418c838d7c23a6e3e686af0ac1
    "# Cluster 1 : 호텔\n",
    "hotel_indices = df[df.cluster_label == 1].index\n",
    "hotel_indices"
   ]
  },
  {
   "cell_type": "code",
<<<<<<< HEAD
   "execution_count": 21,
   "metadata": {},
   "outputs": [
    {
     "data": {
      "text/plain": [
       "'bathroom_bestwestern_hotel_sfo'"
      ]
     },
     "execution_count": 21,
     "metadata": {},
     "output_type": "execute_result"
    }
   ],
=======
   "execution_count": null,
   "metadata": {},
   "outputs": [],
>>>>>>> 40c013039449d0418c838d7c23a6e3e686af0ac1
   "source": [
    "# 호텔로 클러스터링된 데이터 중 첫번째 문서\n",
    "comparison_docname = df.iloc[hotel_indices[0]]['filename']\n",
    "comparison_docname"
   ]
  },
  {
   "cell_type": "code",
<<<<<<< HEAD
   "execution_count": 22,
   "metadata": {},
   "outputs": [
    {
     "data": {
      "text/plain": [
       "array([[1.        , 0.03950499, 0.05053449, 0.06150525, 0.05685307,\n",
       "        0.05599072, 0.0320052 , 0.10782179, 0.48108337, 0.24817652,\n",
       "        0.19257054, 0.1056082 , 0.13093222, 0.12852642, 0.08746969,\n",
       "        0.06831609]])"
      ]
     },
     "execution_count": 22,
     "metadata": {},
     "output_type": "execute_result"
    }
   ],
   "source": [
    "# 호텔로 군집화된 데이터 중에서 코사인 유사도 계산\n",
    "similarity_pair = cosine_similarity(feature[hotel_indices[0]], feature[hotel_indices])\n",
=======
   "execution_count": null,
   "metadata": {},
   "outputs": [],
   "source": [
    "# 호텔로 군집화된 데이터 중에서 코사인 유사도 계산\n",
    "similarity_pair = cosine_similarity(feature[hotel_indices[0], feature[hotel_indices]]\n",
>>>>>>> 40c013039449d0418c838d7c23a6e3e686af0ac1
    "similarity_pair"
   ]
  },
  {
<<<<<<< HEAD
   "cell_type": "code",
   "execution_count": 23,
   "metadata": {},
   "outputs": [
    {
     "data": {
      "text/plain": [
       "'rooms_swissotel_chicago'"
      ]
     },
     "execution_count": 23,
     "metadata": {},
     "output_type": "execute_result"
    }
   ],
   "source": [
    "df.iloc[hotel_indices[10]]['filename']"
   ]
  },
  {
   "cell_type": "markdown",
   "metadata": {},
   "source": [
    "- Opinion Review 데이터셋의 문서 유사도"
=======
   "cell_type": "markdown",
   "metadata": {},
   "source": [
    "- Opinion Review 데이터셋의 문서 유사도"
   ]
  },
  {
   "cell_type": "code",
   "execution_count": null,
   "metadata": {},
   "outputs": [],
   "source": [
    "import pandas as pd\n",
    "import os.glob"
>>>>>>> 40c013039449d0418c838d7c23a6e3e686af0ac1
   ]
  },
  {
   "cell_type": "code",
<<<<<<< HEAD
   "execution_count": 24,
   "metadata": {},
   "outputs": [
    {
     "data": {
      "image/png": "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",
      "text/plain": [
       "<Figure size 720x432 with 1 Axes>"
      ]
     },
     "metadata": {
      "needs_background": "light"
     },
     "output_type": "display_data"
    }
   ],
=======
   "execution_count": null,
   "metadata": {},
   "outputs": [],
>>>>>>> 40c013039449d0418c838d7c23a6e3e686af0ac1
   "source": [
    "import seaborn as sns\n",
    "import matplotlib.pyplot as plt\n",
    "\n",
    "# argsort()를 이용하여 앞예제의 첫번째 문서와 타 문서간 유사도가 큰 순으로 정렬한 인덱스 반환하되 자기 자신은 제외. \n",
    "sorted_index = similarity_pair.argsort()[:,::-1]\n",
    "sorted_index = sorted_index[:, 1:]\n",
    "\n",
<<<<<<< HEAD
    "# 유사도가 큰 순으로 hotel_indices를 추출하여 재 정렬. \n",
    "hotel_sorted_indexes = hotel_indices[sorted_index.reshape(-1)]\n",
=======
    "# 유사도가 큰 순으로 hotel_indexes를 추출하여 재 정렬. \n",
    "hotel_sorted_indexes = hotel_indexes[sorted_index.reshape(-1)]\n",
>>>>>>> 40c013039449d0418c838d7c23a6e3e686af0ac1
    "\n",
    "# 유사도가 큰 순으로 유사도 값을 재정렬하되 자기 자신은 제외\n",
    "hotel_1_sim_value = np.sort(similarity_pair.reshape(-1))[::-1]\n",
    "hotel_1_sim_value = hotel_1_sim_value[1:]\n",
    "\n",
    "# 유사도가 큰 순으로 정렬된 Index와 유사도값을 이용하여 파일명과 유사도값을 Seaborn 막대 그래프로 시각화\n",
    "hotel_1_sim_df = pd.DataFrame()\n",
    "hotel_1_sim_df['filename'] = df.iloc[hotel_sorted_indexes]['filename']\n",
    "hotel_1_sim_df['similarity'] = hotel_1_sim_value\n",
    "\n",
    "plt.figure(figsize=(10,6))\n",
    "sns.barplot(x='similarity', y='filename', data=hotel_1_sim_df)\n",
    "plt.title(comparison_docname, fontsize=15)\n",
    "plt.show()"
   ]
  }
 ],
 "metadata": {
  "interpreter": {
   "hash": "04e5506d0a4e9b5ba2132a3aa07250344199659efb36c7056053abdf16c05720"
  },
  "kernelspec": {
   "display_name": "Python 3.8.11 64-bit ('base': conda)",
   "language": "python",
   "name": "python3"
  },
  "language_info": {
   "codemirror_mode": {
    "name": "ipython",
    "version": 3
   },
   "file_extension": ".py",
   "mimetype": "text/x-python",
   "name": "python",
   "nbconvert_exporter": "python",
   "pygments_lexer": "ipython3",
   "version": "3.8.11"
  },
  "orig_nbformat": 4
 },
 "nbformat": 4,
 "nbformat_minor": 2
}
